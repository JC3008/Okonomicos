{
 "cells": [
  {
   "cell_type": "code",
   "execution_count": 1,
   "metadata": {},
   "outputs": [],
   "source": [
    "# Imports\n",
    "from bs4 import BeautifulSoup\n",
    "import pandas as pd\n",
    "from urllib.request import Request, urlopen\n",
    "from urllib.error import URLError, HTTPError\n",
    "from datetime import date"
   ]
  },
  {
   "cell_type": "code",
   "execution_count": 2,
   "metadata": {},
   "outputs": [],
   "source": [
    "# Definindo características da página\n",
    "url = 'https://www.fundamentus.com.br/resultado.php'\n",
    "headers = {'User-Agent': 'Mozilla/5.0 (Windows NT 10.0; Win64; x64) AppleWebKit/537.36 (KHTML, like Gecko) Chrome/76.0.3809.100 Safari/537.36'}"
   ]
  },
  {
   "cell_type": "code",
   "execution_count": 3,
   "metadata": {},
   "outputs": [
    {
     "name": "stdout",
     "output_type": "stream",
     "text": [
      "Foi\n",
      "\n",
      "\n",
      "200\n"
     ]
    }
   ],
   "source": [
    "# Fazendo a request\n",
    "try:\n",
    "    req = Request(url, headers = headers)\n",
    "    response = urlopen(req)\n",
    "    print('Foi\\n\\n')\n",
    "    print(response.getcode())\n",
    "    html = response.read()\n",
    "    # Tratando alguns possíveis erros\n",
    "except HTTPError as e:\n",
    "    print('HTTPError\\n\\n')\n",
    "    print(response.getcode())\n",
    "    print(e.status, e.reason)\n",
    "\n",
    "except URLError as e:\n",
    "    print('URLError\\n\\n')\n",
    "    print(response.getcode())\n",
    "    print(e.reason)"
   ]
  },
  {
   "cell_type": "code",
   "execution_count": 4,
   "metadata": {},
   "outputs": [],
   "source": [
    "# Instanciando um objeto BeautifulSoup\n",
    "soup = BeautifulSoup(html, 'html.parser')\n",
    "\n",
    "# Pegando os nomes das colunas da tabela\n",
    "colunas_names = [col.getText() for col in soup.find('table', {'id': 'resultado'}).find('thead').findAll('th')]\n",
    "colunas = {i: col.getText() for i, col in enumerate(soup.find('table', {'id': 'resultado'}).find('thead').findAll('th'))}\n",
    "\n",
    "# Criando um DataFrame com os nomes das colunas\n",
    "dados = pd.DataFrame(columns=colunas_names)\n",
    "\n",
    "# Pegando os dados da tabela por linha\n",
    "for i in range(len(soup.find('table', {'id': 'resultado'}).find('tbody').findAll('tr'))):\n",
    "    linha = soup.find('table', {'id': 'resultado'}).find('tbody').findAll('tr')[i].getText().split('\\n')[1:]\n",
    "    inserir_linha = pd.DataFrame(linha).T.rename(columns=colunas)\n",
    "    dados = pd.concat([dados, inserir_linha], ignore_index=True)"
   ]
  },
  {
   "cell_type": "code",
   "execution_count": 5,
   "metadata": {},
   "outputs": [],
   "source": [
    "from sqlalchemy.orm import sessionmaker\n",
    "from sqlalchemy import create_engine\n",
    "import sqlalchemy\n",
    "#import pyodbc "
   ]
  },
  {
   "cell_type": "code",
   "execution_count": 6,
   "metadata": {},
   "outputs": [],
   "source": [
    "SERVER = 'DESKTOP-KQ4D659'\n",
    "DATABASE = 'PIPESOURCE_B3'\n",
    "DRIVER = 'SQL Server Native Client 11.0'\n",
    "USERNAME = ''\n",
    "PASSWORD = ''\n",
    "DATABASE_CONNECTION = f'mssql://{USERNAME}:{PASSWORD}@{SERVER}/{DATABASE}?driver={DRIVER}'"
   ]
  },
  {
   "cell_type": "code",
   "execution_count": 7,
   "metadata": {},
   "outputs": [],
   "source": [
    "engine = create_engine(DATABASE_CONNECTION)\n",
    "connection = engine.connect()"
   ]
  },
  {
   "cell_type": "code",
   "execution_count": 8,
   "metadata": {},
   "outputs": [],
   "source": [
    "dados = dados.drop(columns=[21])\n",
    "dados.rename(columns={'Cotação':'Cotacao',\n",
    "'P/L':'PL',\n",
    "'P/VP':'PVP',\n",
    "'Div.Yield':'DivYield',\n",
    "'P/Ativo':'P_Ativo',\n",
    "'P/Cap.Giro':'P_CapitalGiro',\n",
    "'P/EBIT':'P_Ebit',\n",
    "'P/Ativ Circ.Liq':'P_Ativ_Circ_Liq',\n",
    "'EV/EBIT':'Ev_Ebit',\n",
    "'EV/EBITDA':'Ev_Ebitda',\n",
    "'Mrg. Líq.':'MrgLiq',\n",
    "'Liq. Corr.':'LiqCorr',\n",
    "'Liq.2meses':'Liq2meses',\n",
    "'Patrim. Líq':'PatrimLiq',\n",
    "'Dív.Brut/ Patrim.':'DivBrutaPatrimonio',\n",
    "'Cresc. Rec.5a':'CrescReceita5anos'}\n",
    ", inplace = True)"
   ]
  },
  {
   "cell_type": "code",
   "execution_count": 9,
   "metadata": {},
   "outputs": [],
   "source": [
    "from datetime import datetime as dt\n",
    "# import re\n",
    "\n",
    "dados.to_sql('PIPESOURCE_B3_FATO',con=engine,if_exists='replace')\n",
    "\n",
    "time = dt.now()\n",
    "time = str(time).replace(':','')[:15].replace(' ','_')\n",
    "dados['inbound_date'] = time\n",
    "\n",
    "# print(time)\n",
    "dados.to_csv(f'C:/Projeto_B3/0 - Historico/fundamentus.csv',sep=';')"
   ]
  },
  {
   "cell_type": "code",
   "execution_count": null,
   "metadata": {},
   "outputs": [],
   "source": []
  }
 ],
 "metadata": {
  "kernelspec": {
   "display_name": "Python 3",
   "language": "python",
   "name": "python3"
  },
  "language_info": {
   "codemirror_mode": {
    "name": "ipython",
    "version": 3
   },
   "file_extension": ".py",
   "mimetype": "text/x-python",
   "name": "python",
   "nbconvert_exporter": "python",
   "pygments_lexer": "ipython3",
   "version": "3.8.5"
  }
 },
 "nbformat": 4,
 "nbformat_minor": 4
}
